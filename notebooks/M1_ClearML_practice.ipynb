{
  "cells": [
    {
      "cell_type": "markdown",
      "metadata": {
        "id": "eIJH5AJe9jkw"
      },
      "source": [
        "# <center> [Ноутбук для решения практики](https://stepik.org/lesson/1500755/step/12?unit=1520869)"
      ]
    },
    {
      "cell_type": "markdown",
      "metadata": {
        "id": "cddVDPE59jky"
      },
      "source": [
        "# 1️⃣ **Описание шаблона для решения задачи.**\n",
        "\n",
        "**Задача**: обучить CatBoost, залогировать основные компоненты\n",
        "Вам необходимо сдать файл с расширением любое_имя.py в котором:\n",
        "\n",
        "**Базовое задание (5 баллов)**\n",
        "\n",
        "* Будет загрузка датасета\n",
        "* Разделение на тренировочную и валидационную выборки\n",
        "* Логирование только валидационной выборки\n",
        "* Обучение бустинга с логированием процесса обучения в ClearML и сохранением гиперпараметров модели\n",
        "* Расчет и сохранение метрики на валидационной выборке (classification report и Accuracy)\n",
        "* Сохранение обученной модели\n",
        "  \n",
        "**Дополнительные задания (2 балла)**\n",
        "\n",
        "* Добавить возможность считывания 2-х параметров при запуске файла на исполнение:\n",
        "  + `-- iterations` - задаёт количество итераций бустинга (по умолчанию 500)\n",
        "  + `-- verbose` - задаёт вывод прогресса обучения CatBoost в консоль (по умолчанию False)\n",
        "  \n",
        "Пример команды: `python любое_имя.py --iterations 200 --verbose 100`\n",
        "\n",
        "* Провести EDA и сохранить графики в ClearML\n",
        "\n",
        "👀 При желании, рекомендуется проделать следующее:\n",
        "- Добавить теги для эксперимента\n",
        "- Добавить еще метрик и отслеживать их по мере обучения (главное в меру 😁)\n",
        "\n",
        "\n",
        "❗️❗️❗️ **P.S.** Данный ноутбук - далеко не единственное верное решение, воспринимайте его как помощник для вашего собственного решения или чтобы побороть страх белого листа :)"
      ]
    },
    {
      "cell_type": "markdown",
      "metadata": {
        "id": "t0bpQXCx9jky"
      },
      "source": [
        "# 2️⃣ Подключаем необходимые библиотеки"
      ]
    },
    {
      "cell_type": "code",
      "execution_count": 1,
      "metadata": {
        "colab": {
          "base_uri": "https://localhost:8080/"
        },
        "id": "NFESLxpn9jky",
        "outputId": "e9fc6a97-05c1-4d26-9415-7782f0f7b5fc"
      },
      "outputs": [
        {
          "output_type": "stream",
          "name": "stdout",
          "text": [
            "\u001b[2K   \u001b[90m━━━━━━━━━━━━━━━━━━━━━━━━━━━━━━━━━━━━━━━━\u001b[0m \u001b[32m1.2/1.2 MB\u001b[0m \u001b[31m11.7 MB/s\u001b[0m eta \u001b[36m0:00:00\u001b[0m\n",
            "\u001b[2K   \u001b[90m━━━━━━━━━━━━━━━━━━━━━━━━━━━━━━━━━━━━━━━━\u001b[0m \u001b[32m99.2/99.2 MB\u001b[0m \u001b[31m8.7 MB/s\u001b[0m eta \u001b[36m0:00:00\u001b[0m\n",
            "\u001b[?25h"
          ]
        }
      ],
      "source": [
        "!pip install clearml catboost -q"
      ]
    },
    {
      "cell_type": "code",
      "execution_count": 2,
      "metadata": {
        "id": "Ub8GwKkG9jkz"
      },
      "outputs": [],
      "source": [
        "from dataclasses import dataclass, asdict\n",
        "\n",
        "import pandas as pd\n",
        "import numpy as np\n",
        "import torch\n",
        "\n",
        "from sklearn.model_selection import train_test_split\n",
        "from sklearn.metrics import classification_report, accuracy_score\n",
        "\n",
        "from catboost import CatBoostClassifier\n",
        "from clearml import Logger, Task"
      ]
    },
    {
      "cell_type": "code",
      "execution_count": 3,
      "metadata": {
        "colab": {
          "base_uri": "https://localhost:8080/"
        },
        "id": "C5qGZ5Ik9jkz",
        "outputId": "f3438af1-1ebf-47e7-f307-fdb92e05d9de"
      },
      "outputs": [
        {
          "name": "stdout",
          "output_type": "stream",
          "text": [
            "Введите ваш access_key··········\n",
            "Введите ваш secret_key··········\n"
          ]
        }
      ],
      "source": [
        "# Вносим наши ключи в переменные среды\n",
        "import os\n",
        "from getpass import getpass\n",
        "\n",
        "\n",
        "os.environ[\"CLEARML_API_ACCESS_KEY\"] = getpass(prompt=\"Введите ваш access_key\")\n",
        "os.environ[\"CLEARML_API_SECRET_KEY\"] = getpass(prompt=\"Введите ваш secret_key\")"
      ]
    },
    {
      "cell_type": "markdown",
      "metadata": {
        "id": "jOrbjMqI9jkz"
      },
      "source": [
        "<div class=\"alert alert-warning\">\n",
        "\n",
        "Необходимо получить access и secret токены https://app.clear.ml/settings/workspace-configuration\n",
        "\n",
        "Если работаете на локальном компьютере или сервере можете ввести креды в консоли командой `clearml-init`."
      ]
    },
    {
      "cell_type": "code",
      "execution_count": 4,
      "metadata": {
        "id": "fLwbp0gl9jkz"
      },
      "outputs": [],
      "source": [
        "%%capture\n",
        "#  Не показывать свои api-ключи\n",
        "%env CLEARML_WEB_HOST=https://app.clear.ml/\n",
        "%env CLEARML_API_HOST=https://api.clear.ml\n",
        "%env CLEARML_FILES_HOST=https://files.clear.ml"
      ]
    },
    {
      "cell_type": "code",
      "execution_count": 5,
      "metadata": {
        "id": "VNcUJeAh9jk0"
      },
      "outputs": [],
      "source": [
        "@dataclass\n",
        "class CFG:\n",
        "    project_name: str = \"ML Course Practice\"\n",
        "    experiment_name: str = \"CatBoost model\"\n",
        "\n",
        "    data_path: str = \"../data\"\n",
        "    train_name: str = \"quickstart_train.csv\"\n",
        "    seed: int = 2024\n",
        "\n",
        "\n",
        "cfg = CFG()"
      ]
    },
    {
      "cell_type": "code",
      "execution_count": 6,
      "metadata": {
        "id": "xs6S3uzU9jk1"
      },
      "outputs": [],
      "source": [
        "def seed_everything(seed=2024):\n",
        "    np.random.seed(seed)\n",
        "    torch.manual_seed(seed)\n",
        "    torch.cuda.manual_seed(seed)\n",
        "    torch.backends.cudnn.deterministic = True\n",
        "\n",
        "\n",
        "seed_everything(cfg.seed)"
      ]
    },
    {
      "cell_type": "markdown",
      "metadata": {
        "id": "N0FQxN4V9jk1"
      },
      "source": [
        "# 3️⃣ Начинаем эксперимент"
      ]
    },
    {
      "cell_type": "code",
      "execution_count": 7,
      "metadata": {
        "colab": {
          "base_uri": "https://localhost:8080/"
        },
        "id": "63pg34Bo9jk1",
        "outputId": "5a0f2da5-98a7-4206-ca29-95b3201bbd6e"
      },
      "outputs": [
        {
          "output_type": "stream",
          "name": "stdout",
          "text": [
            "ClearML Task: created new task id=50c79485610a44a1b8f3e9384a04798c\n",
            "2025-07-15 17:09:37,888 - clearml.Task - INFO - Storing jupyter notebook directly as code\n",
            "ClearML results page: https://app.clear.ml/projects/19c4506d53f84f99ac4984404723ce43/experiments/50c79485610a44a1b8f3e9384a04798c/output/log\n"
          ]
        }
      ],
      "source": [
        "task = Task.init(project_name=cfg.project_name, task_name=cfg.experiment_name)\n",
        "task.add_tags([\"CB_classifier\"])  # Добавьте тэги обучения"
      ]
    },
    {
      "cell_type": "code",
      "execution_count": 8,
      "metadata": {
        "colab": {
          "base_uri": "https://localhost:8080/"
        },
        "id": "w4j4j_KL9jk1",
        "outputId": "e0b63484-81f8-4da5-bee7-ebf042438644"
      },
      "outputs": [
        {
          "output_type": "execute_result",
          "data": {
            "text/plain": [
              "{'project_name': 'ML Course Practice',\n",
              " 'experiment_name': 'CatBoost model',\n",
              " 'data_path': '../data',\n",
              " 'train_name': 'quickstart_train.csv',\n",
              " 'seed': 2024}"
            ]
          },
          "metadata": {},
          "execution_count": 8
        }
      ],
      "source": [
        "# Добавить конфиг запуска\n",
        "task.connect(asdict(cfg), \"Basic Config\")"
      ]
    },
    {
      "cell_type": "markdown",
      "metadata": {
        "id": "u0zHrxsO9jk1"
      },
      "source": [
        "# 4️⃣ Подгружаем данные"
      ]
    },
    {
      "cell_type": "code",
      "execution_count": 9,
      "metadata": {
        "id": "4pE8Mg2W9jk1"
      },
      "outputs": [],
      "source": [
        "url = \"https://github.com/a-milenkin/ml_instruments/raw/refs/heads/main/data/quickstart_train.csv\"\n",
        "rides_info = pd.read_csv(url)"
      ]
    },
    {
      "cell_type": "markdown",
      "metadata": {
        "id": "Y3pkxlpb9jk1"
      },
      "source": [
        "## Препроцессинг"
      ]
    },
    {
      "cell_type": "code",
      "execution_count": 10,
      "metadata": {
        "colab": {
          "base_uri": "https://localhost:8080/",
          "height": 206
        },
        "id": "EulQfQHh9jk1",
        "outputId": "2914f84b-40a6-4890-bf7a-7bb0b4681f01"
      },
      "outputs": [
        {
          "output_type": "execute_result",
          "data": {
            "text/plain": [
              "       car_id              model  car_type fuel_type  car_rating  \\\n",
              "0  y13744087j     Kia Rio X-line   economy    petrol        3.78   \n",
              "1  O41613818T         VW Polo VI   economy    petrol        3.90   \n",
              "2  d-2109686j    Renault Sandero  standart    petrol        6.30   \n",
              "3  u29695600e  Mercedes-Benz GLC  business    petrol        4.04   \n",
              "4  N-8915870N    Renault Sandero  standart    petrol        4.70   \n",
              "\n",
              "   year_to_start  riders  year_to_work  target_reg target_class  mean_rating  \\\n",
              "0           2015   76163          2021      109.99  another_bug     4.737759   \n",
              "1           2015   78218          2021       34.48  electro_bug     4.480517   \n",
              "2           2012   23340          2017       34.93   gear_stick     4.768391   \n",
              "3           2011    1263          2020       32.22  engine_fuel     3.880920   \n",
              "4           2012   26428          2017       27.51  engine_fuel     4.181149   \n",
              "\n",
              "   distance_sum  rating_min   speed_max  user_ride_quality_median  \\\n",
              "0  1.214131e+07         0.1  180.855726                  0.023174   \n",
              "1  1.803909e+07         0.0  187.862734                 12.306011   \n",
              "2  1.588366e+07         0.1  102.382857                  2.513319   \n",
              "3  1.651883e+07         0.1  172.793237                 -5.029476   \n",
              "4  1.398317e+07         0.1  203.462289                -14.260456   \n",
              "\n",
              "   deviation_normal_count  user_uniq  \n",
              "0                     174        170  \n",
              "1                     174        174  \n",
              "2                     174        173  \n",
              "3                     174        170  \n",
              "4                     174        171  "
            ],
            "text/html": [
              "\n",
              "  <div id=\"df-226b54ab-f3dd-42f6-bdd2-ec74a22b13bf\" class=\"colab-df-container\">\n",
              "    <div>\n",
              "<style scoped>\n",
              "    .dataframe tbody tr th:only-of-type {\n",
              "        vertical-align: middle;\n",
              "    }\n",
              "\n",
              "    .dataframe tbody tr th {\n",
              "        vertical-align: top;\n",
              "    }\n",
              "\n",
              "    .dataframe thead th {\n",
              "        text-align: right;\n",
              "    }\n",
              "</style>\n",
              "<table border=\"1\" class=\"dataframe\">\n",
              "  <thead>\n",
              "    <tr style=\"text-align: right;\">\n",
              "      <th></th>\n",
              "      <th>car_id</th>\n",
              "      <th>model</th>\n",
              "      <th>car_type</th>\n",
              "      <th>fuel_type</th>\n",
              "      <th>car_rating</th>\n",
              "      <th>year_to_start</th>\n",
              "      <th>riders</th>\n",
              "      <th>year_to_work</th>\n",
              "      <th>target_reg</th>\n",
              "      <th>target_class</th>\n",
              "      <th>mean_rating</th>\n",
              "      <th>distance_sum</th>\n",
              "      <th>rating_min</th>\n",
              "      <th>speed_max</th>\n",
              "      <th>user_ride_quality_median</th>\n",
              "      <th>deviation_normal_count</th>\n",
              "      <th>user_uniq</th>\n",
              "    </tr>\n",
              "  </thead>\n",
              "  <tbody>\n",
              "    <tr>\n",
              "      <th>0</th>\n",
              "      <td>y13744087j</td>\n",
              "      <td>Kia Rio X-line</td>\n",
              "      <td>economy</td>\n",
              "      <td>petrol</td>\n",
              "      <td>3.78</td>\n",
              "      <td>2015</td>\n",
              "      <td>76163</td>\n",
              "      <td>2021</td>\n",
              "      <td>109.99</td>\n",
              "      <td>another_bug</td>\n",
              "      <td>4.737759</td>\n",
              "      <td>1.214131e+07</td>\n",
              "      <td>0.1</td>\n",
              "      <td>180.855726</td>\n",
              "      <td>0.023174</td>\n",
              "      <td>174</td>\n",
              "      <td>170</td>\n",
              "    </tr>\n",
              "    <tr>\n",
              "      <th>1</th>\n",
              "      <td>O41613818T</td>\n",
              "      <td>VW Polo VI</td>\n",
              "      <td>economy</td>\n",
              "      <td>petrol</td>\n",
              "      <td>3.90</td>\n",
              "      <td>2015</td>\n",
              "      <td>78218</td>\n",
              "      <td>2021</td>\n",
              "      <td>34.48</td>\n",
              "      <td>electro_bug</td>\n",
              "      <td>4.480517</td>\n",
              "      <td>1.803909e+07</td>\n",
              "      <td>0.0</td>\n",
              "      <td>187.862734</td>\n",
              "      <td>12.306011</td>\n",
              "      <td>174</td>\n",
              "      <td>174</td>\n",
              "    </tr>\n",
              "    <tr>\n",
              "      <th>2</th>\n",
              "      <td>d-2109686j</td>\n",
              "      <td>Renault Sandero</td>\n",
              "      <td>standart</td>\n",
              "      <td>petrol</td>\n",
              "      <td>6.30</td>\n",
              "      <td>2012</td>\n",
              "      <td>23340</td>\n",
              "      <td>2017</td>\n",
              "      <td>34.93</td>\n",
              "      <td>gear_stick</td>\n",
              "      <td>4.768391</td>\n",
              "      <td>1.588366e+07</td>\n",
              "      <td>0.1</td>\n",
              "      <td>102.382857</td>\n",
              "      <td>2.513319</td>\n",
              "      <td>174</td>\n",
              "      <td>173</td>\n",
              "    </tr>\n",
              "    <tr>\n",
              "      <th>3</th>\n",
              "      <td>u29695600e</td>\n",
              "      <td>Mercedes-Benz GLC</td>\n",
              "      <td>business</td>\n",
              "      <td>petrol</td>\n",
              "      <td>4.04</td>\n",
              "      <td>2011</td>\n",
              "      <td>1263</td>\n",
              "      <td>2020</td>\n",
              "      <td>32.22</td>\n",
              "      <td>engine_fuel</td>\n",
              "      <td>3.880920</td>\n",
              "      <td>1.651883e+07</td>\n",
              "      <td>0.1</td>\n",
              "      <td>172.793237</td>\n",
              "      <td>-5.029476</td>\n",
              "      <td>174</td>\n",
              "      <td>170</td>\n",
              "    </tr>\n",
              "    <tr>\n",
              "      <th>4</th>\n",
              "      <td>N-8915870N</td>\n",
              "      <td>Renault Sandero</td>\n",
              "      <td>standart</td>\n",
              "      <td>petrol</td>\n",
              "      <td>4.70</td>\n",
              "      <td>2012</td>\n",
              "      <td>26428</td>\n",
              "      <td>2017</td>\n",
              "      <td>27.51</td>\n",
              "      <td>engine_fuel</td>\n",
              "      <td>4.181149</td>\n",
              "      <td>1.398317e+07</td>\n",
              "      <td>0.1</td>\n",
              "      <td>203.462289</td>\n",
              "      <td>-14.260456</td>\n",
              "      <td>174</td>\n",
              "      <td>171</td>\n",
              "    </tr>\n",
              "  </tbody>\n",
              "</table>\n",
              "</div>\n",
              "    <div class=\"colab-df-buttons\">\n",
              "\n",
              "  <div class=\"colab-df-container\">\n",
              "    <button class=\"colab-df-convert\" onclick=\"convertToInteractive('df-226b54ab-f3dd-42f6-bdd2-ec74a22b13bf')\"\n",
              "            title=\"Convert this dataframe to an interactive table.\"\n",
              "            style=\"display:none;\">\n",
              "\n",
              "  <svg xmlns=\"http://www.w3.org/2000/svg\" height=\"24px\" viewBox=\"0 -960 960 960\">\n",
              "    <path d=\"M120-120v-720h720v720H120Zm60-500h600v-160H180v160Zm220 220h160v-160H400v160Zm0 220h160v-160H400v160ZM180-400h160v-160H180v160Zm440 0h160v-160H620v160ZM180-180h160v-160H180v160Zm440 0h160v-160H620v160Z\"/>\n",
              "  </svg>\n",
              "    </button>\n",
              "\n",
              "  <style>\n",
              "    .colab-df-container {\n",
              "      display:flex;\n",
              "      gap: 12px;\n",
              "    }\n",
              "\n",
              "    .colab-df-convert {\n",
              "      background-color: #E8F0FE;\n",
              "      border: none;\n",
              "      border-radius: 50%;\n",
              "      cursor: pointer;\n",
              "      display: none;\n",
              "      fill: #1967D2;\n",
              "      height: 32px;\n",
              "      padding: 0 0 0 0;\n",
              "      width: 32px;\n",
              "    }\n",
              "\n",
              "    .colab-df-convert:hover {\n",
              "      background-color: #E2EBFA;\n",
              "      box-shadow: 0px 1px 2px rgba(60, 64, 67, 0.3), 0px 1px 3px 1px rgba(60, 64, 67, 0.15);\n",
              "      fill: #174EA6;\n",
              "    }\n",
              "\n",
              "    .colab-df-buttons div {\n",
              "      margin-bottom: 4px;\n",
              "    }\n",
              "\n",
              "    [theme=dark] .colab-df-convert {\n",
              "      background-color: #3B4455;\n",
              "      fill: #D2E3FC;\n",
              "    }\n",
              "\n",
              "    [theme=dark] .colab-df-convert:hover {\n",
              "      background-color: #434B5C;\n",
              "      box-shadow: 0px 1px 3px 1px rgba(0, 0, 0, 0.15);\n",
              "      filter: drop-shadow(0px 1px 2px rgba(0, 0, 0, 0.3));\n",
              "      fill: #FFFFFF;\n",
              "    }\n",
              "  </style>\n",
              "\n",
              "    <script>\n",
              "      const buttonEl =\n",
              "        document.querySelector('#df-226b54ab-f3dd-42f6-bdd2-ec74a22b13bf button.colab-df-convert');\n",
              "      buttonEl.style.display =\n",
              "        google.colab.kernel.accessAllowed ? 'block' : 'none';\n",
              "\n",
              "      async function convertToInteractive(key) {\n",
              "        const element = document.querySelector('#df-226b54ab-f3dd-42f6-bdd2-ec74a22b13bf');\n",
              "        const dataTable =\n",
              "          await google.colab.kernel.invokeFunction('convertToInteractive',\n",
              "                                                    [key], {});\n",
              "        if (!dataTable) return;\n",
              "\n",
              "        const docLinkHtml = 'Like what you see? Visit the ' +\n",
              "          '<a target=\"_blank\" href=https://colab.research.google.com/notebooks/data_table.ipynb>data table notebook</a>'\n",
              "          + ' to learn more about interactive tables.';\n",
              "        element.innerHTML = '';\n",
              "        dataTable['output_type'] = 'display_data';\n",
              "        await google.colab.output.renderOutput(dataTable, element);\n",
              "        const docLink = document.createElement('div');\n",
              "        docLink.innerHTML = docLinkHtml;\n",
              "        element.appendChild(docLink);\n",
              "      }\n",
              "    </script>\n",
              "  </div>\n",
              "\n",
              "\n",
              "    <div id=\"df-8f770092-71b2-4853-bf01-572e5a3d86a6\">\n",
              "      <button class=\"colab-df-quickchart\" onclick=\"quickchart('df-8f770092-71b2-4853-bf01-572e5a3d86a6')\"\n",
              "                title=\"Suggest charts\"\n",
              "                style=\"display:none;\">\n",
              "\n",
              "<svg xmlns=\"http://www.w3.org/2000/svg\" height=\"24px\"viewBox=\"0 0 24 24\"\n",
              "     width=\"24px\">\n",
              "    <g>\n",
              "        <path d=\"M19 3H5c-1.1 0-2 .9-2 2v14c0 1.1.9 2 2 2h14c1.1 0 2-.9 2-2V5c0-1.1-.9-2-2-2zM9 17H7v-7h2v7zm4 0h-2V7h2v10zm4 0h-2v-4h2v4z\"/>\n",
              "    </g>\n",
              "</svg>\n",
              "      </button>\n",
              "\n",
              "<style>\n",
              "  .colab-df-quickchart {\n",
              "      --bg-color: #E8F0FE;\n",
              "      --fill-color: #1967D2;\n",
              "      --hover-bg-color: #E2EBFA;\n",
              "      --hover-fill-color: #174EA6;\n",
              "      --disabled-fill-color: #AAA;\n",
              "      --disabled-bg-color: #DDD;\n",
              "  }\n",
              "\n",
              "  [theme=dark] .colab-df-quickchart {\n",
              "      --bg-color: #3B4455;\n",
              "      --fill-color: #D2E3FC;\n",
              "      --hover-bg-color: #434B5C;\n",
              "      --hover-fill-color: #FFFFFF;\n",
              "      --disabled-bg-color: #3B4455;\n",
              "      --disabled-fill-color: #666;\n",
              "  }\n",
              "\n",
              "  .colab-df-quickchart {\n",
              "    background-color: var(--bg-color);\n",
              "    border: none;\n",
              "    border-radius: 50%;\n",
              "    cursor: pointer;\n",
              "    display: none;\n",
              "    fill: var(--fill-color);\n",
              "    height: 32px;\n",
              "    padding: 0;\n",
              "    width: 32px;\n",
              "  }\n",
              "\n",
              "  .colab-df-quickchart:hover {\n",
              "    background-color: var(--hover-bg-color);\n",
              "    box-shadow: 0 1px 2px rgba(60, 64, 67, 0.3), 0 1px 3px 1px rgba(60, 64, 67, 0.15);\n",
              "    fill: var(--button-hover-fill-color);\n",
              "  }\n",
              "\n",
              "  .colab-df-quickchart-complete:disabled,\n",
              "  .colab-df-quickchart-complete:disabled:hover {\n",
              "    background-color: var(--disabled-bg-color);\n",
              "    fill: var(--disabled-fill-color);\n",
              "    box-shadow: none;\n",
              "  }\n",
              "\n",
              "  .colab-df-spinner {\n",
              "    border: 2px solid var(--fill-color);\n",
              "    border-color: transparent;\n",
              "    border-bottom-color: var(--fill-color);\n",
              "    animation:\n",
              "      spin 1s steps(1) infinite;\n",
              "  }\n",
              "\n",
              "  @keyframes spin {\n",
              "    0% {\n",
              "      border-color: transparent;\n",
              "      border-bottom-color: var(--fill-color);\n",
              "      border-left-color: var(--fill-color);\n",
              "    }\n",
              "    20% {\n",
              "      border-color: transparent;\n",
              "      border-left-color: var(--fill-color);\n",
              "      border-top-color: var(--fill-color);\n",
              "    }\n",
              "    30% {\n",
              "      border-color: transparent;\n",
              "      border-left-color: var(--fill-color);\n",
              "      border-top-color: var(--fill-color);\n",
              "      border-right-color: var(--fill-color);\n",
              "    }\n",
              "    40% {\n",
              "      border-color: transparent;\n",
              "      border-right-color: var(--fill-color);\n",
              "      border-top-color: var(--fill-color);\n",
              "    }\n",
              "    60% {\n",
              "      border-color: transparent;\n",
              "      border-right-color: var(--fill-color);\n",
              "    }\n",
              "    80% {\n",
              "      border-color: transparent;\n",
              "      border-right-color: var(--fill-color);\n",
              "      border-bottom-color: var(--fill-color);\n",
              "    }\n",
              "    90% {\n",
              "      border-color: transparent;\n",
              "      border-bottom-color: var(--fill-color);\n",
              "    }\n",
              "  }\n",
              "</style>\n",
              "\n",
              "      <script>\n",
              "        async function quickchart(key) {\n",
              "          const quickchartButtonEl =\n",
              "            document.querySelector('#' + key + ' button');\n",
              "          quickchartButtonEl.disabled = true;  // To prevent multiple clicks.\n",
              "          quickchartButtonEl.classList.add('colab-df-spinner');\n",
              "          try {\n",
              "            const charts = await google.colab.kernel.invokeFunction(\n",
              "                'suggestCharts', [key], {});\n",
              "          } catch (error) {\n",
              "            console.error('Error during call to suggestCharts:', error);\n",
              "          }\n",
              "          quickchartButtonEl.classList.remove('colab-df-spinner');\n",
              "          quickchartButtonEl.classList.add('colab-df-quickchart-complete');\n",
              "        }\n",
              "        (() => {\n",
              "          let quickchartButtonEl =\n",
              "            document.querySelector('#df-8f770092-71b2-4853-bf01-572e5a3d86a6 button');\n",
              "          quickchartButtonEl.style.display =\n",
              "            google.colab.kernel.accessAllowed ? 'block' : 'none';\n",
              "        })();\n",
              "      </script>\n",
              "    </div>\n",
              "    </div>\n",
              "  </div>\n"
            ],
            "application/vnd.google.colaboratory.intrinsic+json": {
              "type": "dataframe",
              "variable_name": "rides_info",
              "summary": "{\n  \"name\": \"rides_info\",\n  \"rows\": 2337,\n  \"fields\": [\n    {\n      \"column\": \"car_id\",\n      \"properties\": {\n        \"dtype\": \"string\",\n        \"num_unique_values\": 2337,\n        \"samples\": [\n          \"z14411100u\",\n          \"n-6604555n\",\n          \"d-1051262p\"\n        ],\n        \"semantic_type\": \"\",\n        \"description\": \"\"\n      }\n    },\n    {\n      \"column\": \"model\",\n      \"properties\": {\n        \"dtype\": \"category\",\n        \"num_unique_values\": 26,\n        \"samples\": [\n          \"Smart ForFour\",\n          \"Renault Kaptur\",\n          \"Kia Rio X-line\"\n        ],\n        \"semantic_type\": \"\",\n        \"description\": \"\"\n      }\n    },\n    {\n      \"column\": \"car_type\",\n      \"properties\": {\n        \"dtype\": \"category\",\n        \"num_unique_values\": 4,\n        \"samples\": [\n          \"standart\",\n          \"premium\",\n          \"economy\"\n        ],\n        \"semantic_type\": \"\",\n        \"description\": \"\"\n      }\n    },\n    {\n      \"column\": \"fuel_type\",\n      \"properties\": {\n        \"dtype\": \"category\",\n        \"num_unique_values\": 2,\n        \"samples\": [\n          \"electro\",\n          \"petrol\"\n        ],\n        \"semantic_type\": \"\",\n        \"description\": \"\"\n      }\n    },\n    {\n      \"column\": \"car_rating\",\n      \"properties\": {\n        \"dtype\": \"number\",\n        \"std\": 0.9969539766615564,\n        \"min\": 0.98,\n        \"max\": 8.9,\n        \"num_unique_values\": 269,\n        \"samples\": [\n          2.78,\n          2.1\n        ],\n        \"semantic_type\": \"\",\n        \"description\": \"\"\n      }\n    },\n    {\n      \"column\": \"year_to_start\",\n      \"properties\": {\n        \"dtype\": \"number\",\n        \"std\": 1,\n        \"min\": 2011,\n        \"max\": 2017,\n        \"num_unique_values\": 7,\n        \"samples\": [\n          2015,\n          2012\n        ],\n        \"semantic_type\": \"\",\n        \"description\": \"\"\n      }\n    },\n    {\n      \"column\": \"riders\",\n      \"properties\": {\n        \"dtype\": \"number\",\n        \"std\": 33755,\n        \"min\": 23,\n        \"max\": 142862,\n        \"num_unique_values\": 2306,\n        \"samples\": [\n          61719,\n          100108\n        ],\n        \"semantic_type\": \"\",\n        \"description\": \"\"\n      }\n    },\n    {\n      \"column\": \"year_to_work\",\n      \"properties\": {\n        \"dtype\": \"number\",\n        \"std\": 2,\n        \"min\": 2014,\n        \"max\": 2022,\n        \"num_unique_values\": 9,\n        \"samples\": [\n          2022,\n          2017\n        ],\n        \"semantic_type\": \"\",\n        \"description\": \"\"\n      }\n    },\n    {\n      \"column\": \"target_reg\",\n      \"properties\": {\n        \"dtype\": \"number\",\n        \"std\": 17.64753265251112,\n        \"min\": 17.64,\n        \"max\": 141.13,\n        \"num_unique_values\": 1835,\n        \"samples\": [\n          65.34,\n          42.58\n        ],\n        \"semantic_type\": \"\",\n        \"description\": \"\"\n      }\n    },\n    {\n      \"column\": \"target_class\",\n      \"properties\": {\n        \"dtype\": \"category\",\n        \"num_unique_values\": 9,\n        \"samples\": [\n          \"wheel_shake\",\n          \"electro_bug\"\n        ],\n        \"semantic_type\": \"\",\n        \"description\": \"\"\n      }\n    },\n    {\n      \"column\": \"mean_rating\",\n      \"properties\": {\n        \"dtype\": \"number\",\n        \"std\": 0.41858751816150724,\n        \"min\": 3.529885057471265,\n        \"max\": 5.700747126436782,\n        \"num_unique_values\": 2223,\n        \"samples\": [\n          4.938505747126436,\n          4.750402298850575\n        ],\n        \"semantic_type\": \"\",\n        \"description\": \"\"\n      }\n    },\n    {\n      \"column\": \"distance_sum\",\n      \"properties\": {\n        \"dtype\": \"number\",\n        \"std\": 4253208.7723701,\n        \"min\": 1478866.3194710591,\n        \"max\": 31197854.66144909,\n        \"num_unique_values\": 2337,\n        \"samples\": [\n          11634739.066408755,\n          17976546.948301077\n        ],\n        \"semantic_type\": \"\",\n        \"description\": \"\"\n      }\n    },\n    {\n      \"column\": \"rating_min\",\n      \"properties\": {\n        \"dtype\": \"number\",\n        \"std\": 0.163978283460026,\n        \"min\": 0.0,\n        \"max\": 1.5,\n        \"num_unique_values\": 91,\n        \"samples\": [\n          0.67,\n          0.5\n        ],\n        \"semantic_type\": \"\",\n        \"description\": \"\"\n      }\n    },\n    {\n      \"column\": \"speed_max\",\n      \"properties\": {\n        \"dtype\": \"number\",\n        \"std\": 33.21116098702876,\n        \"min\": 91.4235081222183,\n        \"max\": 209.98283950882248,\n        \"num_unique_values\": 1938,\n        \"samples\": [\n          109.38343955827206,\n          196.76859522747992\n        ],\n        \"semantic_type\": \"\",\n        \"description\": \"\"\n      }\n    },\n    {\n      \"column\": \"user_ride_quality_median\",\n      \"properties\": {\n        \"dtype\": \"number\",\n        \"std\": 9.581800367410487,\n        \"min\": -38.116344812235766,\n        \"max\": 35.77049335204191,\n        \"num_unique_values\": 2337,\n        \"samples\": [\n          -4.022916383366763,\n          2.871491593000214\n        ],\n        \"semantic_type\": \"\",\n        \"description\": \"\"\n      }\n    },\n    {\n      \"column\": \"deviation_normal_count\",\n      \"properties\": {\n        \"dtype\": \"number\",\n        \"std\": 0,\n        \"min\": 174,\n        \"max\": 174,\n        \"num_unique_values\": 1,\n        \"samples\": [\n          174\n        ],\n        \"semantic_type\": \"\",\n        \"description\": \"\"\n      }\n    },\n    {\n      \"column\": \"user_uniq\",\n      \"properties\": {\n        \"dtype\": \"number\",\n        \"std\": 3,\n        \"min\": 136,\n        \"max\": 174,\n        \"num_unique_values\": 30,\n        \"samples\": [\n          163\n        ],\n        \"semantic_type\": \"\",\n        \"description\": \"\"\n      }\n    }\n  ]\n}"
            }
          },
          "metadata": {},
          "execution_count": 10
        }
      ],
      "source": [
        "rides_info.head()"
      ]
    },
    {
      "cell_type": "code",
      "execution_count": 11,
      "metadata": {
        "colab": {
          "base_uri": "https://localhost:8080/"
        },
        "id": "ZcrOH7BO9jk1",
        "outputId": "0578d4ab-eedb-4d64-9482-a48b1dbacec2"
      },
      "outputs": [
        {
          "output_type": "stream",
          "name": "stdout",
          "text": [
            "cat_features ['model', 'car_type', 'fuel_type']\n",
            "num_features 11\n",
            "targets ['target_class', 'target_reg']\n"
          ]
        }
      ],
      "source": [
        "cat_features = [\"model\", \"car_type\", \"fuel_type\"]  # Выделяем категориальные признаки\n",
        "targets = [\"target_class\", \"target_reg\"]\n",
        "features2drop = [\"car_id\"]  # эти фичи будут удалены\n",
        "\n",
        "# Отбираем итоговый набор признаков для использования моделью\n",
        "filtered_features = [\n",
        "    i for i in rides_info.columns if (i not in targets and i not in features2drop)\n",
        "]\n",
        "num_features = [i for i in filtered_features if i not in cat_features]\n",
        "\n",
        "print(\"cat_features\", cat_features)\n",
        "print(\"num_features\", len(num_features))\n",
        "print(\"targets\", targets)\n",
        "\n",
        "for c in cat_features:  # Избавлеямся от NaN'ов\n",
        "    rides_info[c] = rides_info[c].astype(str)"
      ]
    },
    {
      "cell_type": "code",
      "execution_count": 12,
      "metadata": {
        "id": "h_Zif25f9jk1"
      },
      "outputs": [],
      "source": [
        "train, test = train_test_split(rides_info, test_size=0.2, random_state=cfg.seed)"
      ]
    },
    {
      "cell_type": "code",
      "execution_count": 14,
      "metadata": {
        "id": "43WIrSYe9jk1"
      },
      "outputs": [],
      "source": [
        "# Залогируйте только валидационную выборку!\n",
        "\n",
        "logger = Logger.current_logger()\n",
        "\n",
        "logger.report_table(title = \"Test data\", series = \"datasets\", table_plot = test)"
      ]
    },
    {
      "cell_type": "code",
      "execution_count": 15,
      "metadata": {
        "id": "g7uWlHgD9jk1"
      },
      "outputs": [],
      "source": [
        "X_train = train[filtered_features]\n",
        "y_train = train[\"target_class\"]\n",
        "\n",
        "X_test = test[filtered_features]\n",
        "y_test = test[\"target_class\"]"
      ]
    },
    {
      "cell_type": "markdown",
      "metadata": {
        "id": "IZS0C6mr9jk1"
      },
      "source": [
        "# 5️⃣ Обучаем модельку"
      ]
    },
    {
      "cell_type": "code",
      "execution_count": 16,
      "metadata": {
        "id": "gIrYXJ0n9jk2"
      },
      "outputs": [],
      "source": [
        "cb_params = {\n",
        "    \"depth\": 4,\n",
        "    \"learning_rate\": 0.06,\n",
        "    \"loss_function\": \"MultiClass\",\n",
        "    \"custom_metric\": [\"Recall\"],\n",
        "    # Главная фишка катбуста - работа с категориальными признаками\n",
        "    \"cat_features\": cat_features,\n",
        "    # Регуляризация и ускорение\n",
        "    \"colsample_bylevel\": 0.098,\n",
        "    \"subsample\": 0.95,\n",
        "    \"l2_leaf_reg\": 9,\n",
        "    \"min_data_in_leaf\": 243,\n",
        "    \"max_bin\": 187,\n",
        "    \"random_strength\": 1,\n",
        "    # Параметры ускорения\n",
        "    \"task_type\": \"CPU\",\n",
        "    \"thread_count\": -1,\n",
        "    \"bootstrap_type\": \"Bernoulli\",\n",
        "    # Важное!\n",
        "    \"random_seed\": cfg.seed,\n",
        "    \"early_stopping_rounds\": 50,\n",
        "}"
      ]
    },
    {
      "cell_type": "markdown",
      "metadata": {
        "id": "RpXwzqNF9jk2"
      },
      "source": [
        "залогируйте параметры CatBoost"
      ]
    },
    {
      "cell_type": "markdown",
      "metadata": {
        "id": "SOgfOHqb9jk2"
      },
      "source": [
        "Логирование CatBoost в ClearML - https://clear.ml/docs/latest/docs/guides/frameworks/catboost/"
      ]
    },
    {
      "cell_type": "code",
      "source": [
        "task.connect(cb_params, name='params')"
      ],
      "metadata": {
        "colab": {
          "base_uri": "https://localhost:8080/"
        },
        "id": "JdmELmVZFqYt",
        "outputId": "54a121e7-7bdc-4c64-bbaf-e1dbb4c51224"
      },
      "execution_count": 24,
      "outputs": [
        {
          "output_type": "execute_result",
          "data": {
            "text/plain": [
              "{'depth': 4,\n",
              " 'learning_rate': 0.06,\n",
              " 'loss_function': 'MultiClass',\n",
              " 'custom_metric': ['Recall'],\n",
              " 'cat_features': ['model', 'car_type', 'fuel_type'],\n",
              " 'colsample_bylevel': 0.098,\n",
              " 'subsample': 0.95,\n",
              " 'l2_leaf_reg': 9,\n",
              " 'min_data_in_leaf': 243,\n",
              " 'max_bin': 187,\n",
              " 'random_strength': 1,\n",
              " 'task_type': 'CPU',\n",
              " 'thread_count': -1,\n",
              " 'bootstrap_type': 'Bernoulli',\n",
              " 'random_seed': 2024,\n",
              " 'early_stopping_rounds': 50}"
            ]
          },
          "metadata": {},
          "execution_count": 24
        }
      ]
    },
    {
      "cell_type": "code",
      "execution_count": 17,
      "metadata": {
        "id": "XL6KkEVw9jk2"
      },
      "outputs": [],
      "source": [
        "model = CatBoostClassifier(**cb_params)"
      ]
    },
    {
      "cell_type": "code",
      "execution_count": 18,
      "metadata": {
        "colab": {
          "base_uri": "https://localhost:8080/"
        },
        "id": "1tawjz3C9jk2",
        "outputId": "188656d1-78f1-4044-edff-2142d34dee73"
      },
      "outputs": [
        {
          "output_type": "stream",
          "name": "stdout",
          "text": [
            "0:\tlearn: 2.1705246\ttest: 2.1740775\tbest: 2.1740775 (0)\ttotal: 160ms\tremaining: 2m 40s\n",
            "100:\tlearn: 1.0631163\ttest: 1.0836203\tbest: 1.0836203 (100)\ttotal: 739ms\tremaining: 6.58s\n",
            "200:\tlearn: 0.7137202\ttest: 0.7486728\tbest: 0.7486728 (200)\ttotal: 1.25s\tremaining: 4.98s\n",
            "300:\tlearn: 0.5721508\ttest: 0.6233048\tbest: 0.6233048 (300)\ttotal: 2.14s\tremaining: 4.96s\n",
            "400:\tlearn: 0.5047344\ttest: 0.5698141\tbest: 0.5698141 (400)\ttotal: 2.66s\tremaining: 3.97s\n",
            "500:\tlearn: 0.4734597\ttest: 0.5473218\tbest: 0.5473218 (500)\ttotal: 3.22s\tremaining: 3.21s\n",
            "600:\tlearn: 0.4465932\ttest: 0.5298101\tbest: 0.5298098 (599)\ttotal: 3.95s\tremaining: 2.62s\n",
            "700:\tlearn: 0.4277882\ttest: 0.5194899\tbest: 0.5194161 (699)\ttotal: 4.51s\tremaining: 1.93s\n",
            "800:\tlearn: 0.4113118\ttest: 0.5102654\tbest: 0.5102654 (800)\ttotal: 5.06s\tremaining: 1.26s\n",
            "900:\tlearn: 0.3968942\ttest: 0.5038923\tbest: 0.5038923 (900)\ttotal: 6.03s\tremaining: 662ms\n",
            "999:\tlearn: 0.3863354\ttest: 0.4992162\tbest: 0.4991979 (998)\ttotal: 6.51s\tremaining: 0us\n",
            "\n",
            "bestTest = 0.4991978643\n",
            "bestIteration = 998\n",
            "\n",
            "Shrink model to first 999 iterations.\n"
          ]
        },
        {
          "output_type": "execute_result",
          "data": {
            "text/plain": [
              "<catboost.core.CatBoostClassifier at 0x7b3dc67c0710>"
            ]
          },
          "metadata": {},
          "execution_count": 18
        }
      ],
      "source": [
        "model.fit(X_train, y_train, eval_set=(X_test, y_test), verbose=100)"
      ]
    },
    {
      "cell_type": "code",
      "execution_count": 19,
      "metadata": {
        "id": "4YO9wROt9jk2"
      },
      "outputs": [],
      "source": [
        "# сохраняем модель\n",
        "model.save_model(\"cb_model.cbm\")"
      ]
    },
    {
      "cell_type": "markdown",
      "metadata": {
        "id": "QDDIOwgl9jk2"
      },
      "source": [
        "# Метрики на тесте"
      ]
    },
    {
      "cell_type": "code",
      "execution_count": 20,
      "metadata": {
        "id": "4bdHx5u69jk2"
      },
      "outputs": [],
      "source": [
        "y_pred = model.predict(X_test)"
      ]
    },
    {
      "cell_type": "code",
      "execution_count": 21,
      "metadata": {
        "colab": {
          "base_uri": "https://localhost:8080/"
        },
        "id": "xvNXRWFM9jk2",
        "outputId": "d267fd3c-498d-4407-fab6-75a9f654e27e"
      },
      "outputs": [
        {
          "output_type": "execute_result",
          "data": {
            "text/plain": [
              "0.7970085470085471"
            ]
          },
          "metadata": {},
          "execution_count": 21
        }
      ],
      "source": [
        "accuracy_score(y_test, y_pred)"
      ]
    },
    {
      "cell_type": "code",
      "execution_count": 22,
      "metadata": {
        "id": "mNuQjywo9jk2"
      },
      "outputs": [],
      "source": [
        "cls_report = classification_report(\n",
        "    y_test, y_pred, target_names=y_test.unique(), output_dict=True\n",
        ")"
      ]
    },
    {
      "cell_type": "code",
      "execution_count": 23,
      "metadata": {
        "colab": {
          "base_uri": "https://localhost:8080/",
          "height": 425
        },
        "id": "zL2-Yktx9jk2",
        "outputId": "8a207c21-93f6-426c-9c56-665c21aaf62a"
      },
      "outputs": [
        {
          "output_type": "execute_result",
          "data": {
            "text/plain": [
              "                 precision    recall  f1-score     support\n",
              "electro_bug       0.949153  0.933333  0.941176   60.000000\n",
              "engine_ignition   1.000000  1.000000  1.000000   55.000000\n",
              "another_bug       1.000000  1.000000  1.000000   52.000000\n",
              "gear_stick        0.734375  0.903846  0.810345   52.000000\n",
              "engine_overheat   0.761905  0.640000  0.695652   50.000000\n",
              "engine_fuel       0.531915  0.462963  0.495050   54.000000\n",
              "break_bug         0.462687  0.574074  0.512397   54.000000\n",
              "engine_check      0.962963  0.912281  0.936937   57.000000\n",
              "wheel_shake       0.821429  0.676471  0.741935   34.000000\n",
              "accuracy          0.797009  0.797009  0.797009    0.797009\n",
              "macro avg         0.802714  0.789219  0.792610  468.000000\n",
              "weighted avg      0.805038  0.797009  0.797915  468.000000"
            ],
            "text/html": [
              "\n",
              "  <div id=\"df-1f91deb5-1ac5-46d4-879d-969b5208a684\" class=\"colab-df-container\">\n",
              "    <div>\n",
              "<style scoped>\n",
              "    .dataframe tbody tr th:only-of-type {\n",
              "        vertical-align: middle;\n",
              "    }\n",
              "\n",
              "    .dataframe tbody tr th {\n",
              "        vertical-align: top;\n",
              "    }\n",
              "\n",
              "    .dataframe thead th {\n",
              "        text-align: right;\n",
              "    }\n",
              "</style>\n",
              "<table border=\"1\" class=\"dataframe\">\n",
              "  <thead>\n",
              "    <tr style=\"text-align: right;\">\n",
              "      <th></th>\n",
              "      <th>precision</th>\n",
              "      <th>recall</th>\n",
              "      <th>f1-score</th>\n",
              "      <th>support</th>\n",
              "    </tr>\n",
              "  </thead>\n",
              "  <tbody>\n",
              "    <tr>\n",
              "      <th>electro_bug</th>\n",
              "      <td>0.949153</td>\n",
              "      <td>0.933333</td>\n",
              "      <td>0.941176</td>\n",
              "      <td>60.000000</td>\n",
              "    </tr>\n",
              "    <tr>\n",
              "      <th>engine_ignition</th>\n",
              "      <td>1.000000</td>\n",
              "      <td>1.000000</td>\n",
              "      <td>1.000000</td>\n",
              "      <td>55.000000</td>\n",
              "    </tr>\n",
              "    <tr>\n",
              "      <th>another_bug</th>\n",
              "      <td>1.000000</td>\n",
              "      <td>1.000000</td>\n",
              "      <td>1.000000</td>\n",
              "      <td>52.000000</td>\n",
              "    </tr>\n",
              "    <tr>\n",
              "      <th>gear_stick</th>\n",
              "      <td>0.734375</td>\n",
              "      <td>0.903846</td>\n",
              "      <td>0.810345</td>\n",
              "      <td>52.000000</td>\n",
              "    </tr>\n",
              "    <tr>\n",
              "      <th>engine_overheat</th>\n",
              "      <td>0.761905</td>\n",
              "      <td>0.640000</td>\n",
              "      <td>0.695652</td>\n",
              "      <td>50.000000</td>\n",
              "    </tr>\n",
              "    <tr>\n",
              "      <th>engine_fuel</th>\n",
              "      <td>0.531915</td>\n",
              "      <td>0.462963</td>\n",
              "      <td>0.495050</td>\n",
              "      <td>54.000000</td>\n",
              "    </tr>\n",
              "    <tr>\n",
              "      <th>break_bug</th>\n",
              "      <td>0.462687</td>\n",
              "      <td>0.574074</td>\n",
              "      <td>0.512397</td>\n",
              "      <td>54.000000</td>\n",
              "    </tr>\n",
              "    <tr>\n",
              "      <th>engine_check</th>\n",
              "      <td>0.962963</td>\n",
              "      <td>0.912281</td>\n",
              "      <td>0.936937</td>\n",
              "      <td>57.000000</td>\n",
              "    </tr>\n",
              "    <tr>\n",
              "      <th>wheel_shake</th>\n",
              "      <td>0.821429</td>\n",
              "      <td>0.676471</td>\n",
              "      <td>0.741935</td>\n",
              "      <td>34.000000</td>\n",
              "    </tr>\n",
              "    <tr>\n",
              "      <th>accuracy</th>\n",
              "      <td>0.797009</td>\n",
              "      <td>0.797009</td>\n",
              "      <td>0.797009</td>\n",
              "      <td>0.797009</td>\n",
              "    </tr>\n",
              "    <tr>\n",
              "      <th>macro avg</th>\n",
              "      <td>0.802714</td>\n",
              "      <td>0.789219</td>\n",
              "      <td>0.792610</td>\n",
              "      <td>468.000000</td>\n",
              "    </tr>\n",
              "    <tr>\n",
              "      <th>weighted avg</th>\n",
              "      <td>0.805038</td>\n",
              "      <td>0.797009</td>\n",
              "      <td>0.797915</td>\n",
              "      <td>468.000000</td>\n",
              "    </tr>\n",
              "  </tbody>\n",
              "</table>\n",
              "</div>\n",
              "    <div class=\"colab-df-buttons\">\n",
              "\n",
              "  <div class=\"colab-df-container\">\n",
              "    <button class=\"colab-df-convert\" onclick=\"convertToInteractive('df-1f91deb5-1ac5-46d4-879d-969b5208a684')\"\n",
              "            title=\"Convert this dataframe to an interactive table.\"\n",
              "            style=\"display:none;\">\n",
              "\n",
              "  <svg xmlns=\"http://www.w3.org/2000/svg\" height=\"24px\" viewBox=\"0 -960 960 960\">\n",
              "    <path d=\"M120-120v-720h720v720H120Zm60-500h600v-160H180v160Zm220 220h160v-160H400v160Zm0 220h160v-160H400v160ZM180-400h160v-160H180v160Zm440 0h160v-160H620v160ZM180-180h160v-160H180v160Zm440 0h160v-160H620v160Z\"/>\n",
              "  </svg>\n",
              "    </button>\n",
              "\n",
              "  <style>\n",
              "    .colab-df-container {\n",
              "      display:flex;\n",
              "      gap: 12px;\n",
              "    }\n",
              "\n",
              "    .colab-df-convert {\n",
              "      background-color: #E8F0FE;\n",
              "      border: none;\n",
              "      border-radius: 50%;\n",
              "      cursor: pointer;\n",
              "      display: none;\n",
              "      fill: #1967D2;\n",
              "      height: 32px;\n",
              "      padding: 0 0 0 0;\n",
              "      width: 32px;\n",
              "    }\n",
              "\n",
              "    .colab-df-convert:hover {\n",
              "      background-color: #E2EBFA;\n",
              "      box-shadow: 0px 1px 2px rgba(60, 64, 67, 0.3), 0px 1px 3px 1px rgba(60, 64, 67, 0.15);\n",
              "      fill: #174EA6;\n",
              "    }\n",
              "\n",
              "    .colab-df-buttons div {\n",
              "      margin-bottom: 4px;\n",
              "    }\n",
              "\n",
              "    [theme=dark] .colab-df-convert {\n",
              "      background-color: #3B4455;\n",
              "      fill: #D2E3FC;\n",
              "    }\n",
              "\n",
              "    [theme=dark] .colab-df-convert:hover {\n",
              "      background-color: #434B5C;\n",
              "      box-shadow: 0px 1px 3px 1px rgba(0, 0, 0, 0.15);\n",
              "      filter: drop-shadow(0px 1px 2px rgba(0, 0, 0, 0.3));\n",
              "      fill: #FFFFFF;\n",
              "    }\n",
              "  </style>\n",
              "\n",
              "    <script>\n",
              "      const buttonEl =\n",
              "        document.querySelector('#df-1f91deb5-1ac5-46d4-879d-969b5208a684 button.colab-df-convert');\n",
              "      buttonEl.style.display =\n",
              "        google.colab.kernel.accessAllowed ? 'block' : 'none';\n",
              "\n",
              "      async function convertToInteractive(key) {\n",
              "        const element = document.querySelector('#df-1f91deb5-1ac5-46d4-879d-969b5208a684');\n",
              "        const dataTable =\n",
              "          await google.colab.kernel.invokeFunction('convertToInteractive',\n",
              "                                                    [key], {});\n",
              "        if (!dataTable) return;\n",
              "\n",
              "        const docLinkHtml = 'Like what you see? Visit the ' +\n",
              "          '<a target=\"_blank\" href=https://colab.research.google.com/notebooks/data_table.ipynb>data table notebook</a>'\n",
              "          + ' to learn more about interactive tables.';\n",
              "        element.innerHTML = '';\n",
              "        dataTable['output_type'] = 'display_data';\n",
              "        await google.colab.output.renderOutput(dataTable, element);\n",
              "        const docLink = document.createElement('div');\n",
              "        docLink.innerHTML = docLinkHtml;\n",
              "        element.appendChild(docLink);\n",
              "      }\n",
              "    </script>\n",
              "  </div>\n",
              "\n",
              "\n",
              "    <div id=\"df-01e64649-845b-4e5b-a489-69654f94b0e8\">\n",
              "      <button class=\"colab-df-quickchart\" onclick=\"quickchart('df-01e64649-845b-4e5b-a489-69654f94b0e8')\"\n",
              "                title=\"Suggest charts\"\n",
              "                style=\"display:none;\">\n",
              "\n",
              "<svg xmlns=\"http://www.w3.org/2000/svg\" height=\"24px\"viewBox=\"0 0 24 24\"\n",
              "     width=\"24px\">\n",
              "    <g>\n",
              "        <path d=\"M19 3H5c-1.1 0-2 .9-2 2v14c0 1.1.9 2 2 2h14c1.1 0 2-.9 2-2V5c0-1.1-.9-2-2-2zM9 17H7v-7h2v7zm4 0h-2V7h2v10zm4 0h-2v-4h2v4z\"/>\n",
              "    </g>\n",
              "</svg>\n",
              "      </button>\n",
              "\n",
              "<style>\n",
              "  .colab-df-quickchart {\n",
              "      --bg-color: #E8F0FE;\n",
              "      --fill-color: #1967D2;\n",
              "      --hover-bg-color: #E2EBFA;\n",
              "      --hover-fill-color: #174EA6;\n",
              "      --disabled-fill-color: #AAA;\n",
              "      --disabled-bg-color: #DDD;\n",
              "  }\n",
              "\n",
              "  [theme=dark] .colab-df-quickchart {\n",
              "      --bg-color: #3B4455;\n",
              "      --fill-color: #D2E3FC;\n",
              "      --hover-bg-color: #434B5C;\n",
              "      --hover-fill-color: #FFFFFF;\n",
              "      --disabled-bg-color: #3B4455;\n",
              "      --disabled-fill-color: #666;\n",
              "  }\n",
              "\n",
              "  .colab-df-quickchart {\n",
              "    background-color: var(--bg-color);\n",
              "    border: none;\n",
              "    border-radius: 50%;\n",
              "    cursor: pointer;\n",
              "    display: none;\n",
              "    fill: var(--fill-color);\n",
              "    height: 32px;\n",
              "    padding: 0;\n",
              "    width: 32px;\n",
              "  }\n",
              "\n",
              "  .colab-df-quickchart:hover {\n",
              "    background-color: var(--hover-bg-color);\n",
              "    box-shadow: 0 1px 2px rgba(60, 64, 67, 0.3), 0 1px 3px 1px rgba(60, 64, 67, 0.15);\n",
              "    fill: var(--button-hover-fill-color);\n",
              "  }\n",
              "\n",
              "  .colab-df-quickchart-complete:disabled,\n",
              "  .colab-df-quickchart-complete:disabled:hover {\n",
              "    background-color: var(--disabled-bg-color);\n",
              "    fill: var(--disabled-fill-color);\n",
              "    box-shadow: none;\n",
              "  }\n",
              "\n",
              "  .colab-df-spinner {\n",
              "    border: 2px solid var(--fill-color);\n",
              "    border-color: transparent;\n",
              "    border-bottom-color: var(--fill-color);\n",
              "    animation:\n",
              "      spin 1s steps(1) infinite;\n",
              "  }\n",
              "\n",
              "  @keyframes spin {\n",
              "    0% {\n",
              "      border-color: transparent;\n",
              "      border-bottom-color: var(--fill-color);\n",
              "      border-left-color: var(--fill-color);\n",
              "    }\n",
              "    20% {\n",
              "      border-color: transparent;\n",
              "      border-left-color: var(--fill-color);\n",
              "      border-top-color: var(--fill-color);\n",
              "    }\n",
              "    30% {\n",
              "      border-color: transparent;\n",
              "      border-left-color: var(--fill-color);\n",
              "      border-top-color: var(--fill-color);\n",
              "      border-right-color: var(--fill-color);\n",
              "    }\n",
              "    40% {\n",
              "      border-color: transparent;\n",
              "      border-right-color: var(--fill-color);\n",
              "      border-top-color: var(--fill-color);\n",
              "    }\n",
              "    60% {\n",
              "      border-color: transparent;\n",
              "      border-right-color: var(--fill-color);\n",
              "    }\n",
              "    80% {\n",
              "      border-color: transparent;\n",
              "      border-right-color: var(--fill-color);\n",
              "      border-bottom-color: var(--fill-color);\n",
              "    }\n",
              "    90% {\n",
              "      border-color: transparent;\n",
              "      border-bottom-color: var(--fill-color);\n",
              "    }\n",
              "  }\n",
              "</style>\n",
              "\n",
              "      <script>\n",
              "        async function quickchart(key) {\n",
              "          const quickchartButtonEl =\n",
              "            document.querySelector('#' + key + ' button');\n",
              "          quickchartButtonEl.disabled = true;  // To prevent multiple clicks.\n",
              "          quickchartButtonEl.classList.add('colab-df-spinner');\n",
              "          try {\n",
              "            const charts = await google.colab.kernel.invokeFunction(\n",
              "                'suggestCharts', [key], {});\n",
              "          } catch (error) {\n",
              "            console.error('Error during call to suggestCharts:', error);\n",
              "          }\n",
              "          quickchartButtonEl.classList.remove('colab-df-spinner');\n",
              "          quickchartButtonEl.classList.add('colab-df-quickchart-complete');\n",
              "        }\n",
              "        (() => {\n",
              "          let quickchartButtonEl =\n",
              "            document.querySelector('#df-01e64649-845b-4e5b-a489-69654f94b0e8 button');\n",
              "          quickchartButtonEl.style.display =\n",
              "            google.colab.kernel.accessAllowed ? 'block' : 'none';\n",
              "        })();\n",
              "      </script>\n",
              "    </div>\n",
              "    </div>\n",
              "  </div>\n"
            ],
            "application/vnd.google.colaboratory.intrinsic+json": {
              "type": "dataframe",
              "variable_name": "cls_report",
              "summary": "{\n  \"name\": \"cls_report\",\n  \"rows\": 12,\n  \"fields\": [\n    {\n      \"column\": \"precision\",\n      \"properties\": {\n        \"dtype\": \"number\",\n        \"std\": 0.1707313594036362,\n        \"min\": 0.4626865671641791,\n        \"max\": 1.0,\n        \"num_unique_values\": 11,\n        \"samples\": [\n          0.4626865671641791,\n          0.9491525423728814,\n          0.802713922161153\n        ],\n        \"semantic_type\": \"\",\n        \"description\": \"\"\n      }\n    },\n    {\n      \"column\": \"recall\",\n      \"properties\": {\n        \"dtype\": \"number\",\n        \"std\": 0.17207814308341451,\n        \"min\": 0.46296296296296297,\n        \"max\": 1.0,\n        \"num_unique_values\": 10,\n        \"samples\": [\n          0.7970085470085471,\n          1.0,\n          0.5740740740740741\n        ],\n        \"semantic_type\": \"\",\n        \"description\": \"\"\n      }\n    },\n    {\n      \"column\": \"f1-score\",\n      \"properties\": {\n        \"dtype\": \"number\",\n        \"std\": 0.1674156842959866,\n        \"min\": 0.49504950495049505,\n        \"max\": 1.0,\n        \"num_unique_values\": 11,\n        \"samples\": [\n          0.512396694214876,\n          0.9411764705882353,\n          0.7926102324511957\n        ],\n        \"semantic_type\": \"\",\n        \"description\": \"\"\n      }\n    },\n    {\n      \"column\": \"support\",\n      \"properties\": {\n        \"dtype\": \"number\",\n        \"std\": 164.6936777191924,\n        \"min\": 0.7970085470085471,\n        \"max\": 468.0,\n        \"num_unique_values\": 9,\n        \"samples\": [\n          0.7970085470085471,\n          55.0,\n          57.0\n        ],\n        \"semantic_type\": \"\",\n        \"description\": \"\"\n      }\n    }\n  ]\n}"
            }
          },
          "metadata": {},
          "execution_count": 23
        }
      ],
      "source": [
        "cls_report = pd.DataFrame(cls_report).T\n",
        "cls_report"
      ]
    },
    {
      "cell_type": "markdown",
      "metadata": {
        "id": "a5CiXrw09jk2"
      },
      "source": [
        "# 6️⃣ Сохраняем результаты в ClearML"
      ]
    },
    {
      "cell_type": "code",
      "execution_count": 25,
      "metadata": {
        "id": "PJ0yIf5e9jk2"
      },
      "outputs": [],
      "source": [
        "# Логируем метрики\n",
        "\n",
        "logger.report_table(title = \"Metrics\", series = \"metrics\", table_plot=cls_report)"
      ]
    },
    {
      "cell_type": "code",
      "execution_count": 26,
      "metadata": {
        "id": "eZcE4VoD9jk2"
      },
      "outputs": [],
      "source": [
        "# Не забываем завершить таск\n",
        "task.close()"
      ]
    },
    {
      "cell_type": "markdown",
      "metadata": {
        "id": "io7IE5SK9jk2"
      },
      "source": [
        "# 7️⃣ Запись файла для сдачи на Stepik"
      ]
    },
    {
      "cell_type": "code",
      "execution_count": null,
      "metadata": {
        "id": "JZjFm71O9jk2"
      },
      "outputs": [],
      "source": [
        "%%writefile example.py\n",
        "#!/usr/bin/env python\n",
        "from catboost import CatBoostClassifier\n",
        "# your code here\n",
        "\n",
        "def main():\n",
        "    pass # your code here\n",
        "\n",
        "if __name__ == \"__main__\":\n",
        "    # your code here\n",
        "    main()"
      ]
    },
    {
      "cell_type": "markdown",
      "metadata": {
        "id": "Snp7knZW9jk2"
      },
      "source": [
        "**Проверка работоспособности**"
      ]
    },
    {
      "cell_type": "code",
      "execution_count": null,
      "metadata": {
        "id": "QMMcSilX9jk5"
      },
      "outputs": [],
      "source": [
        "!python example.py"
      ]
    },
    {
      "cell_type": "code",
      "execution_count": null,
      "metadata": {
        "id": "AlP7RREu9jk5"
      },
      "outputs": [],
      "source": [
        "# Для бонусного задания\n",
        "!python example.py --iterations 200 --verbose 100"
      ]
    },
    {
      "cell_type": "markdown",
      "metadata": {
        "id": "bpCVKgbz9jk5"
      },
      "source": [
        "## 🎱 Поздравляем, вы стали на шаг ближе к продакшен-разработке ML-проектов!\n",
        "Теперь сможете писать код для запуска экспериментов на удаленном сервере, даже при отсутствии установленного на нём Jupyter-lab."
      ]
    }
  ],
  "metadata": {
    "kernelspec": {
      "display_name": "cv",
      "language": "python",
      "name": "python3"
    },
    "language_info": {
      "codemirror_mode": {
        "name": "ipython",
        "version": 3
      },
      "file_extension": ".py",
      "mimetype": "text/x-python",
      "name": "python",
      "nbconvert_exporter": "python",
      "pygments_lexer": "ipython3",
      "version": "3.10.12"
    },
    "colab": {
      "provenance": []
    }
  },
  "nbformat": 4,
  "nbformat_minor": 0
}