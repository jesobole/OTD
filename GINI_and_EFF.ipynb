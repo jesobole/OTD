{
  "nbformat": 4,
  "nbformat_minor": 0,
  "metadata": {
    "colab": {
      "provenance": [],
      "authorship_tag": "ABX9TyOE0925/SE9ww5dXqDNmSzg",
      "include_colab_link": true
    },
    "kernelspec": {
      "name": "python3",
      "display_name": "Python 3"
    },
    "language_info": {
      "name": "python"
    }
  },
  "cells": [
    {
      "cell_type": "markdown",
      "metadata": {
        "id": "view-in-github",
        "colab_type": "text"
      },
      "source": [
        "<a href=\"https://colab.research.google.com/github/jesobole/OTD/blob/main/GINI_and_EFF.ipynb\" target=\"_parent\"><img src=\"https://colab.research.google.com/assets/colab-badge.svg\" alt=\"Open In Colab\"/></a>"
      ]
    },
    {
      "cell_type": "code",
      "execution_count": 343,
      "metadata": {
        "id": "oGdWeqsW616K"
      },
      "outputs": [],
      "source": [
        "# import packages\n",
        "import pandas as pd\n",
        "import matplotlib.pyplot as plt\n",
        "import numpy as np\n",
        "import argparse\n",
        "import math\n",
        "from scipy import stats\n",
        "import os\n",
        "import random\n",
        "\n",
        "np.random.seed(0)\n",
        "random.seed(10)"
      ]
    },
    {
      "cell_type": "code",
      "source": [
        "#Define context generating function.\n",
        "gender_pdf = np.array([0.5, 0.5])#marginal distribution of gender. [male, female]\n",
        "location_pdf = np.array([0.22, 0.46, 0.32])#marginal distribution of city level. [large city, medium city, small city]\n",
        "age_seg_pdf = np.array([0.46, 0.34, 0.20])#marginal distribution of age. [small age, middle age, large age]\n",
        "dim_context  = int(np.shape(gender_pdf)[0]+np.shape(location_pdf)[0]+np.shape(age_seg_pdf)[0])\n",
        "\n",
        "def context_generate(gender_ratio = gender_pdf, loc_ratio = location_pdf, age_ratio = age_seg_pdf):\n",
        "    a = np.random.multinomial(1, gender_pdf, size=1)\n",
        "    b = np.random.multinomial(1, location_pdf, size=1)\n",
        "    c = np.random.multinomial(1, age_ratio, size=1)\n",
        "    return np.concatenate((a, b, c), axis=None)\n",
        "context_generate(gender_ratio = gender_pdf, loc_ratio = location_pdf, age_ratio = age_seg_pdf)"
      ],
      "metadata": {
        "colab": {
          "base_uri": "https://localhost:8080/"
        },
        "id": "pfvbwbUF652b",
        "outputId": "e4c0b597-0107-49c3-d4c2-fb4365f2d1e4"
      },
      "execution_count": 344,
      "outputs": [
        {
          "output_type": "execute_result",
          "data": {
            "text/plain": [
              "array([1, 0, 0, 0, 1, 1, 0, 0])"
            ]
          },
          "metadata": {},
          "execution_count": 344
        }
      ]
    },
    {
      "cell_type": "code",
      "source": [
        "# hyperparameters settings. Notice that this system is based on first price auction and CPC,\n",
        "# which are consistent with paper modeling assumption in Section 3\n",
        "import sys\n",
        "sys.argv=['']\n",
        "del sys\n",
        "parser = argparse.ArgumentParser()\n",
        "\n",
        "parser.add_argument('--total_ads', type=int, default=10, help='total number of ads for simulation')\n",
        "parser.add_argument('--total_slots', type = int, default= 5, help='number of slots' )\n",
        "\n",
        "opt = parser.parse_args()\n"
      ],
      "metadata": {
        "id": "JrEqkVUy_TQb"
      },
      "execution_count": 345,
      "outputs": []
    },
    {
      "cell_type": "code",
      "source": [
        "def generate_ads(n, dim_context = dim_context):\n",
        "    #n is the total number of ads\n",
        "\n",
        "    #initialize output data:\n",
        "    coefficient_ctr_model = np.zeros([n, dim_context])\n",
        "\n",
        "    budgets = np.zeros(n)\n",
        "\n",
        "    #generate bid, true CTR model\n",
        "    for i in range(n):\n",
        "        coefficient_ctr_model[i, :] = np.random.uniform(0,0.05,dim_context)\n",
        "        budgets[i] = np.random.uniform(0.01, 1)\n",
        "\n",
        "    return budgets, coefficient_ctr_model\n",
        "\n",
        "budgets, coefficient_ctr_model = generate_ads(n = opt.total_ads, dim_context = dim_context)\n"
      ],
      "metadata": {
        "id": "ijI0zIUw8l7f"
      },
      "execution_count": 346,
      "outputs": []
    },
    {
      "cell_type": "code",
      "source": [
        "budgets"
      ],
      "metadata": {
        "colab": {
          "base_uri": "https://localhost:8080/"
        },
        "id": "UY_LdTZEJwgG",
        "outputId": "e7761617-126a-4adf-dfcf-0caabb0ee706"
      },
      "execution_count": 260,
      "outputs": [
        {
          "output_type": "execute_result",
          "data": {
            "text/plain": [
              "array([0.54121342, 0.38962926, 0.69061339, 0.43043861, 0.71969108,\n",
              "       0.75117698, 0.02626533, 0.87774019, 0.30009008, 0.64307779])"
            ]
          },
          "metadata": {},
          "execution_count": 260
        }
      ]
    },
    {
      "cell_type": "code",
      "source": [
        "pi_context = np.random.uniform(1, 10, dim_context)\n",
        "pi_context = pi_context/np.sum(pi_context)\n",
        "pi_context"
      ],
      "metadata": {
        "colab": {
          "base_uri": "https://localhost:8080/"
        },
        "id": "IrXibPMTD3r5",
        "outputId": "bc128638-685f-454b-9ba2-64a4e12ceca5"
      },
      "execution_count": 261,
      "outputs": [
        {
          "output_type": "execute_result",
          "data": {
            "text/plain": [
              "array([0.11694158, 0.06046092, 0.22750518, 0.07336865, 0.15173778,\n",
              "       0.08177163, 0.05093979, 0.23727448])"
            ]
          },
          "metadata": {},
          "execution_count": 261
        }
      ]
    },
    {
      "cell_type": "code",
      "source": [
        "def positional_discounts(k = opt.total_slots):\n",
        "  return np.array([(1 - (i/k)**2) for i in range(k)])\n",
        "\n",
        "positional_discounts(opt.total_slots)\n"
      ],
      "metadata": {
        "colab": {
          "base_uri": "https://localhost:8080/"
        },
        "id": "FgaS_Wm7GHJl",
        "outputId": "ae2d43c3-893e-4277-8d95-4c2b476f8f25"
      },
      "execution_count": 262,
      "outputs": [
        {
          "output_type": "execute_result",
          "data": {
            "text/plain": [
              "array([1.  , 0.96, 0.84, 0.64, 0.36])"
            ]
          },
          "metadata": {},
          "execution_count": 262
        }
      ]
    },
    {
      "cell_type": "code",
      "source": [
        "from scipy.optimize import Bounds\n",
        "from scipy.optimize import LinearConstraint\n",
        "\n",
        "n = opt.total_ads\n",
        "m = dim_context\n",
        "gamma_vec = positional_discounts(opt.total_slots)\n",
        "k = opt.total_slots\n",
        "#bounds\n",
        "bounds = Bounds(np.zeros(n*m), np.ones(n*m))\n",
        "\n",
        "#linear constrains\n",
        "A = np.zeros([m, n*m])\n",
        "for i in range(m):\n",
        "  A[i, i * n: n * (i + 1)] = np.ones(n)\n",
        "b_right = np.ones(m) * np.sum(gamma_vec)\n",
        "b_left = np.zeros(m)\n",
        "\n",
        "linear_constraint = LinearConstraint (A, b_left, b_right)\n",
        "\n",
        "#efficiency alpha_vec = (alpha11,alpha12,alpha13,alpha21,alpha22,...)\n",
        "def efficiency(alpha_vec, pi_vec = pi_context, ctr_mat = coefficient_ctr_model, n = opt.total_ads, m = dim_context, budget_vec = budgets):\n",
        "  alpha_mat = alpha_vec.reshape(m,n).transpose()\n",
        "  return (np.sum(alpha_mat * ctr_mat * pi_vec))\n",
        "\n",
        "def gmd_kv(alpha_vec, pi_vec = pi_context, ctr_mat = coefficient_ctr_model,\n",
        "           n = opt.total_ads, m = dim_context, budget_vec = budgets):\n",
        "  gmd = 0\n",
        "  alpha_mat = alpha_vec.reshape(m,n)\n",
        "  for i in range(m):\n",
        "    for j in range(n):\n",
        "      for h in range(n):\n",
        "        gmd += pi_vec[i]*(alpha_mat[i,j]*ctr_mat[j,i]/budget_vec[j] - alpha_mat[i,h]*ctr_mat[h,i]/budget_vec[h])**2\n",
        "  return gmd\n",
        "\n",
        "def target_func(alpha_vec, lam = 0):\n",
        "  return lam * gmd_kv(alpha_vec) - efficiency(alpha_vec)\n"
      ],
      "metadata": {
        "id": "I1cCHaxDhteD"
      },
      "execution_count": 301,
      "outputs": []
    },
    {
      "cell_type": "code",
      "source": [
        "from scipy.optimize import minimize\n",
        "lam = 10\n",
        "alpha_vec0 = np.zeros(m*n)\n",
        "res = minimize(target_func, alpha_vec0, tol=1e-5, constraints=[linear_constraint],bounds=bounds, args=10 )"
      ],
      "metadata": {
        "id": "hYVLD5LfGRYa"
      },
      "execution_count": 308,
      "outputs": []
    },
    {
      "cell_type": "code",
      "source": [
        "res.x.reshape(m,n).transpose()\n",
        "gmd_kv(res.x)"
      ],
      "metadata": {
        "colab": {
          "base_uri": "https://localhost:8080/"
        },
        "id": "o77MOtUPHwDZ",
        "outputId": "9321ad69-7ab2-43d0-c81e-5d9317a4a2d9"
      },
      "execution_count": 298,
      "outputs": [
        {
          "output_type": "execute_result",
          "data": {
            "text/plain": [
              "0.006158307142758893"
            ]
          },
          "metadata": {},
          "execution_count": 298
        }
      ]
    },
    {
      "cell_type": "code",
      "source": [
        "gmd_kv(res.x)"
      ],
      "metadata": {
        "colab": {
          "base_uri": "https://localhost:8080/"
        },
        "id": "YXiC2lW4IiAl",
        "outputId": "5493302d-3c92-4c39-fea6-9680d18f990b"
      },
      "execution_count": 309,
      "outputs": [
        {
          "output_type": "execute_result",
          "data": {
            "text/plain": [
              "0.0009327983149375964"
            ]
          },
          "metadata": {},
          "execution_count": 309
        }
      ]
    },
    {
      "cell_type": "code",
      "source": [
        "efficiency(res.x)"
      ],
      "metadata": {
        "colab": {
          "base_uri": "https://localhost:8080/"
        },
        "id": "MG7WNjneIkRG",
        "outputId": "2e59e2a6-f698-4dc4-f8b7-a5159d1e9299"
      },
      "execution_count": 310,
      "outputs": [
        {
          "output_type": "execute_result",
          "data": {
            "text/plain": [
              "0.06632856901475738"
            ]
          },
          "metadata": {},
          "execution_count": 310
        }
      ]
    },
    {
      "cell_type": "code",
      "source": [
        "import matplotlib.pyplot as plt\n",
        "x_gini = np.array([])\n",
        "y_eff = np.array([])\n",
        "\n",
        "for lam in np.arange(0, 10, 1):\n",
        "  alpha_vec0 = np.zeros(m*n)\n",
        "  res = minimize(target_func, alpha_vec0, tol=1e-5, constraints=[linear_constraint],bounds=bounds, args = lam)\n",
        "  x_gini = np.append(x_gini, gmd_kv(res.x))\n",
        "  y_eff = np.append(y_eff, efficiency(res.x))\n",
        ""
      ],
      "metadata": {
        "id": "8XnTIyOMLUaD"
      },
      "execution_count": 315,
      "outputs": []
    },
    {
      "cell_type": "code",
      "source": [
        "for lam in np.arange(0, 1, 0.1):\n",
        "  alpha_vec0 = np.zeros(m*n)\n",
        "  res = minimize(target_func, alpha_vec0, tol=1e-5, constraints=[linear_constraint],bounds=bounds, args = lam)\n",
        "  x_gini = np.append(x_gini, gmd_kv(res.x))\n",
        "  y_eff = np.append(y_eff, efficiency(res.x))"
      ],
      "metadata": {
        "id": "Raf7Ik4lT-iF"
      },
      "execution_count": 317,
      "outputs": []
    },
    {
      "cell_type": "code",
      "source": [
        "for lam in np.arange(0, 0.1, 0.01):\n",
        "  alpha_vec0 = np.zeros(m*n)\n",
        "  res = minimize(target_func, alpha_vec0, tol=1e-5, constraints=[linear_constraint],bounds=bounds, args = lam)\n",
        "  x_gini = np.append(x_gini, gmd_kv(res.x))\n",
        "  y_eff = np.append(y_eff, efficiency(res.x))"
      ],
      "metadata": {
        "id": "zEpkvirsUbFS"
      },
      "execution_count": 319,
      "outputs": []
    },
    {
      "cell_type": "code",
      "source": [
        "for lam in np.arange(0, 0.01, 0.001):\n",
        "  alpha_vec0 = np.zeros(m*n)\n",
        "  res = minimize(target_func, alpha_vec0, tol=1e-5, constraints=[linear_constraint],bounds=bounds, args = lam)\n",
        "  x_gini = np.append(x_gini, gmd_kv(res.x))\n",
        "  y_eff = np.append(y_eff, efficiency(res.x))"
      ],
      "metadata": {
        "id": "3brpAoeMU3FW"
      },
      "execution_count": 321,
      "outputs": []
    },
    {
      "cell_type": "code",
      "source": [
        "for lam in np.arange(0, 0.001, 0.0001):\n",
        "  alpha_vec0 = np.zeros(m*n)\n",
        "  res = minimize(target_func, alpha_vec0, tol=1e-5, constraints=[linear_constraint],bounds=bounds, args = lam)\n",
        "  x_gini = np.append(x_gini, gmd_kv(res.x))\n",
        "  y_eff = np.append(y_eff, efficiency(res.x))"
      ],
      "metadata": {
        "id": "uEi5GWI3VUA_"
      },
      "execution_count": 323,
      "outputs": []
    },
    {
      "cell_type": "code",
      "source": [
        "plt.scatter(x_gini, y_eff)\n",
        "plt.xlabel('GINI')\n",
        "plt.ylabel('Efficiency')"
      ],
      "metadata": {
        "colab": {
          "base_uri": "https://localhost:8080/",
          "height": 467
        },
        "id": "5t3pJJZrLqUh",
        "outputId": "79135555-4f1b-4926-873c-5a2d8e509271"
      },
      "execution_count": 324,
      "outputs": [
        {
          "output_type": "execute_result",
          "data": {
            "text/plain": [
              "Text(0, 0.5, 'Efficiency')"
            ]
          },
          "metadata": {},
          "execution_count": 324
        },
        {
          "output_type": "display_data",
          "data": {
            "text/plain": [
              "<Figure size 640x480 with 1 Axes>"
            ],
            "image/png": "[encoded data removed]"
          },
          "metadata": {}
        }
      ]
    },
    {
      "cell_type": "code",
      "source": [
        "y_eff[0]\n"
      ],
      "metadata": {
        "colab": {
          "base_uri": "https://localhost:8080/"
        },
        "id": "0iXKwHu2X_jj",
        "outputId": "2ec4e82f-81a1-4223-fd7c-b0771f5c3061"
      },
      "execution_count": 325,
      "outputs": [
        {
          "output_type": "execute_result",
          "data": {
            "text/plain": [
              "0.15516763046519727"
            ]
          },
          "metadata": {},
          "execution_count": 325
        }
      ]
    },
    {
      "cell_type": "code",
      "source": [
        "y_eff[-11]"
      ],
      "metadata": {
        "colab": {
          "base_uri": "https://localhost:8080/"
        },
        "id": "xKaWV4X5ZMhX",
        "outputId": "1bc78d24-696d-41ad-dd06-b08deac0e8c8"
      },
      "execution_count": 341,
      "outputs": [
        {
          "output_type": "execute_result",
          "data": {
            "text/plain": [
              "0.14851702286866397"
            ]
          },
          "metadata": {},
          "execution_count": 341
        }
      ]
    },
    {
      "cell_type": "code",
      "source": [
        "x_gini[9]"
      ],
      "metadata": {
        "colab": {
          "base_uri": "https://localhost:8080/"
        },
        "id": "YX1wz1FnYFCY",
        "outputId": "05ce9066-8ef2-4ef1-a7f7-c77d42134c1f"
      },
      "execution_count": 327,
      "outputs": [
        {
          "output_type": "execute_result",
          "data": {
            "text/plain": [
              "0.0010881529160880214"
            ]
          },
          "metadata": {},
          "execution_count": 327
        }
      ]
    },
    {
      "cell_type": "code",
      "source": [
        "x_gini[-11]"
      ],
      "metadata": {
        "colab": {
          "base_uri": "https://localhost:8080/"
        },
        "id": "JgWjgiP7ZYLJ",
        "outputId": "9a54ce67-de5f-4f6e-9a8e-38d23cb67272"
      },
      "execution_count": 342,
      "outputs": [
        {
          "output_type": "execute_result",
          "data": {
            "text/plain": [
              "0.3410638345194309"
            ]
          },
          "metadata": {},
          "execution_count": 342
        }
      ]
    },
    {
      "cell_type": "code",
      "source": [
        "x = np.array([])\n",
        "x = np.append(x, 1)\n",
        "x"
      ],
      "metadata": {
        "colab": {
          "base_uri": "https://localhost:8080/"
        },
        "id": "eUxKYKVfMVpO",
        "outputId": "7ab9ce9d-bc37-4e90-cf82-041e28d3e363"
      },
      "execution_count": 279,
      "outputs": [
        {
          "output_type": "execute_result",
          "data": {
            "text/plain": [
              "array([1.])"
            ]
          },
          "metadata": {},
          "execution_count": 279
        }
      ]
    },
    {
      "cell_type": "markdown",
      "source": [],
      "metadata": {
        "id": "pBGjhSZkFfaG"
      }
    }
  ]
}